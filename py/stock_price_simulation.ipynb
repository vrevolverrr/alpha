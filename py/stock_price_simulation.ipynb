import numpy as np
import matplotlib.pyplot as plt

def simulate_gbm(S0, mu, sigma, T, dt):
    """
    Simulate stock prices using Geometric Brownian Motion.
    
    Parameters:
    S0 (float): Initial stock price
    mu (float): Drift rate
    sigma (float): Volatility
    T (float): Total time (e.g., number of years)
    dt (float): Time step (e.g., 1/252 for daily steps)
    
    Returns:
    np.ndarray: Simulated stock prices
    """
    N = int(T / dt)  # Number of time steps
    t = np.linspace(0, T, N)
    W = np.random.standard_normal(size=N)  # Standard Brownian motion
    W = np.cumsum(W) * np.sqrt(dt)  # Weiner process
    X = (mu - 0.5 * sigma**2) * t + sigma * W
    S = S0 * np.exp(X)
    return S

# Parameters
S0 = 100  # Initial stock price
mu = 0.1  # Drift (10% annual return)
sigma = 0.2  # Volatility (20% annual volatility)
T = 1.0  # Time period (1 year)
dt = 1/252  # Time step (1 trading day)

# Simulate stock prices
simulated_prices = simulate_gbm(S0, mu, sigma, T, dt)

# Plot the simulated stock prices
plt.plot(simulated_prices)
plt.title('Simulated Stock Prices using Geometric Brownian Motion')
plt.xlabel('Time Steps')
plt.ylabel('Stock Price')
plt.show()